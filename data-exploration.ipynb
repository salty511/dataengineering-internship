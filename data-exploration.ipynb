{
 "cells": [
  {
   "cell_type": "code",
   "execution_count": 2,
   "id": "0de3f0af",
   "metadata": {},
   "outputs": [],
   "source": [
    "import pandas as pd"
   ]
  },
  {
   "cell_type": "code",
   "execution_count": 10,
   "id": "855aaa83",
   "metadata": {},
   "outputs": [],
   "source": [
    "clickstream_df = pd.read_csv(\"clickstream.csv\", nrows=50000)\n",
    "transactions_df = pd.read_csv(\"transactions.csv\", nrows=50000)"
   ]
  },
  {
   "cell_type": "code",
   "execution_count": 11,
   "id": "53e53f4d",
   "metadata": {},
   "outputs": [
    {
     "data": {
      "text/html": [
       "<div>\n",
       "<style scoped>\n",
       "    .dataframe tbody tr th:only-of-type {\n",
       "        vertical-align: middle;\n",
       "    }\n",
       "\n",
       "    .dataframe tbody tr th {\n",
       "        vertical-align: top;\n",
       "    }\n",
       "\n",
       "    .dataframe thead th {\n",
       "        text-align: right;\n",
       "    }\n",
       "</style>\n",
       "<table border=\"1\" class=\"dataframe\">\n",
       "  <thead>\n",
       "    <tr style=\"text-align: right;\">\n",
       "      <th></th>\n",
       "      <th>user_id</th>\n",
       "      <th>session_id</th>\n",
       "      <th>page_url</th>\n",
       "      <th>click_time</th>\n",
       "      <th>device</th>\n",
       "      <th>location</th>\n",
       "    </tr>\n",
       "  </thead>\n",
       "  <tbody>\n",
       "    <tr>\n",
       "      <th>0</th>\n",
       "      <td>41906</td>\n",
       "      <td>4b8feef4-2332-4867-9612-f6e3d67bb70f</td>\n",
       "      <td>/home</td>\n",
       "      <td>2025-09-02T15:38:39Z</td>\n",
       "      <td>desktop</td>\n",
       "      <td>DE</td>\n",
       "    </tr>\n",
       "    <tr>\n",
       "      <th>1</th>\n",
       "      <td>14629</td>\n",
       "      <td>80ddb3a6-7080-4d5b-95d7-0f07296654b2</td>\n",
       "      <td>/product/alpha</td>\n",
       "      <td>2025-09-04T19:27:04Z</td>\n",
       "      <td>mobile</td>\n",
       "      <td>AU</td>\n",
       "    </tr>\n",
       "    <tr>\n",
       "      <th>2</th>\n",
       "      <td>5698</td>\n",
       "      <td>cc33cc49-a847-443a-9a8b-7f81f9623c2a</td>\n",
       "      <td>/checkout</td>\n",
       "      <td>2025-09-03T20:32:47Z</td>\n",
       "      <td>mobile</td>\n",
       "      <td>GB</td>\n",
       "    </tr>\n",
       "    <tr>\n",
       "      <th>3</th>\n",
       "      <td>14329</td>\n",
       "      <td>0f268ab7-dbd9-47c8-b4a6-4b5a4b39bac1</td>\n",
       "      <td>/product/beta</td>\n",
       "      <td>2025-09-04T02:37:18Z</td>\n",
       "      <td>desktop</td>\n",
       "      <td>AU</td>\n",
       "    </tr>\n",
       "    <tr>\n",
       "      <th>4</th>\n",
       "      <td>13032</td>\n",
       "      <td>b79491c9-576c-419c-a5af-6b1b1cf78092</td>\n",
       "      <td>/cart</td>\n",
       "      <td>2025-09-03T20:22:17Z</td>\n",
       "      <td>mobile</td>\n",
       "      <td>ZA</td>\n",
       "    </tr>\n",
       "  </tbody>\n",
       "</table>\n",
       "</div>"
      ],
      "text/plain": [
       "   user_id                            session_id        page_url  \\\n",
       "0    41906  4b8feef4-2332-4867-9612-f6e3d67bb70f           /home   \n",
       "1    14629  80ddb3a6-7080-4d5b-95d7-0f07296654b2  /product/alpha   \n",
       "2     5698  cc33cc49-a847-443a-9a8b-7f81f9623c2a       /checkout   \n",
       "3    14329  0f268ab7-dbd9-47c8-b4a6-4b5a4b39bac1   /product/beta   \n",
       "4    13032  b79491c9-576c-419c-a5af-6b1b1cf78092           /cart   \n",
       "\n",
       "             click_time   device location  \n",
       "0  2025-09-02T15:38:39Z  desktop       DE  \n",
       "1  2025-09-04T19:27:04Z   mobile       AU  \n",
       "2  2025-09-03T20:32:47Z   mobile       GB  \n",
       "3  2025-09-04T02:37:18Z  desktop       AU  \n",
       "4  2025-09-03T20:22:17Z   mobile       ZA  "
      ]
     },
     "execution_count": 11,
     "metadata": {},
     "output_type": "execute_result"
    }
   ],
   "source": [
    "clickstream_df.head()"
   ]
  },
  {
   "cell_type": "code",
   "execution_count": 13,
   "id": "056c0a31",
   "metadata": {},
   "outputs": [
    {
     "data": {
      "text/html": [
       "<div>\n",
       "<style scoped>\n",
       "    .dataframe tbody tr th:only-of-type {\n",
       "        vertical-align: middle;\n",
       "    }\n",
       "\n",
       "    .dataframe tbody tr th {\n",
       "        vertical-align: top;\n",
       "    }\n",
       "\n",
       "    .dataframe thead th {\n",
       "        text-align: right;\n",
       "    }\n",
       "</style>\n",
       "<table border=\"1\" class=\"dataframe\">\n",
       "  <thead>\n",
       "    <tr style=\"text-align: right;\">\n",
       "      <th></th>\n",
       "      <th>txn_id</th>\n",
       "      <th>user_id</th>\n",
       "      <th>amount</th>\n",
       "      <th>currency</th>\n",
       "      <th>txn_time</th>\n",
       "    </tr>\n",
       "  </thead>\n",
       "  <tbody>\n",
       "    <tr>\n",
       "      <th>0</th>\n",
       "      <td>00e22e71-ccc3-4cd8-8b9c-dcd45831360e</td>\n",
       "      <td>30148</td>\n",
       "      <td>69.41</td>\n",
       "      <td>GBP</td>\n",
       "      <td>2025-09-02T17:40:25Z</td>\n",
       "    </tr>\n",
       "    <tr>\n",
       "      <th>1</th>\n",
       "      <td>03161627-fa7d-458e-949f-890b227e1f9d</td>\n",
       "      <td>33593</td>\n",
       "      <td>216.51</td>\n",
       "      <td>USD</td>\n",
       "      <td>2025-09-04T05:01:43Z</td>\n",
       "    </tr>\n",
       "    <tr>\n",
       "      <th>2</th>\n",
       "      <td>b2ee8412-c2de-4278-9e84-477f3c2608b1</td>\n",
       "      <td>8863</td>\n",
       "      <td>128.51</td>\n",
       "      <td>EUR</td>\n",
       "      <td>2025-09-03T06:22:13Z</td>\n",
       "    </tr>\n",
       "    <tr>\n",
       "      <th>3</th>\n",
       "      <td>fd6f9752-3d98-498e-98e6-cec3f2d60c70</td>\n",
       "      <td>15370</td>\n",
       "      <td>133.82</td>\n",
       "      <td>USD</td>\n",
       "      <td>2025-09-04T23:36:06Z</td>\n",
       "    </tr>\n",
       "    <tr>\n",
       "      <th>4</th>\n",
       "      <td>1ff86983-6198-4b63-af63-af54d733ae2e</td>\n",
       "      <td>19387</td>\n",
       "      <td>250.94</td>\n",
       "      <td>EUR</td>\n",
       "      <td>2025-09-03T21:37:43Z</td>\n",
       "    </tr>\n",
       "  </tbody>\n",
       "</table>\n",
       "</div>"
      ],
      "text/plain": [
       "                                 txn_id  user_id  amount currency  \\\n",
       "0  00e22e71-ccc3-4cd8-8b9c-dcd45831360e    30148   69.41      GBP   \n",
       "1  03161627-fa7d-458e-949f-890b227e1f9d    33593  216.51      USD   \n",
       "2  b2ee8412-c2de-4278-9e84-477f3c2608b1     8863  128.51      EUR   \n",
       "3  fd6f9752-3d98-498e-98e6-cec3f2d60c70    15370  133.82      USD   \n",
       "4  1ff86983-6198-4b63-af63-af54d733ae2e    19387  250.94      EUR   \n",
       "\n",
       "               txn_time  \n",
       "0  2025-09-02T17:40:25Z  \n",
       "1  2025-09-04T05:01:43Z  \n",
       "2  2025-09-03T06:22:13Z  \n",
       "3  2025-09-04T23:36:06Z  \n",
       "4  2025-09-03T21:37:43Z  "
      ]
     },
     "execution_count": 13,
     "metadata": {},
     "output_type": "execute_result"
    }
   ],
   "source": [
    "transactions_df.head()"
   ]
  },
  {
   "cell_type": "code",
   "execution_count": null,
   "id": "82257cc0",
   "metadata": {},
   "outputs": [],
   "source": []
  },
  {
   "cell_type": "code",
   "execution_count": 1,
   "id": "0a49e900",
   "metadata": {},
   "outputs": [
    {
     "name": "stderr",
     "output_type": "stream",
     "text": [
      "c:\\Users\\isaac\\miniconda3\\envs\\data-science\\Lib\\site-packages\\requests\\__init__.py:86: RequestsDependencyWarning: Unable to find acceptable character detection dependency (chardet or charset_normalizer).\n",
      "  warnings.warn(\n"
     ]
    },
    {
     "name": "stdout",
     "output_type": "stream",
     "text": [
      "API Error: {'result': 'error', 'documentation': 'https://www.exchangerate-api.com/docs', 'terms-of-use': 'https://www.exchangerate-api.com/terms', 'error-type': 'invalid-key'}\n"
     ]
    }
   ],
   "source": [
    "import os \n",
    "import requests \n",
    "from dotenv import load_dotenv \n",
    "\n",
    "\n",
    "API_KEY = \"YOUR_API_KEY\" # Replace with your key \n",
    "\n",
    "url = f\"https://v6.exchangerate-api.com/v6/{API_KEY}/latest/USD\" \n",
    "response = requests.get(url) \n",
    "data = response.json() \n",
    "\n",
    "if response.status_code == 200 and data[\"result\"] == \"success\": \n",
    "\t\trates = data[\"conversion_rates\"] \n",
    "\t\tprint(\"USD to INR:\", rates[\"INR\"]) \n",
    "else: print(\"API Error:\", data)"
   ]
  },
  {
   "cell_type": "code",
   "execution_count": null,
   "id": "6407683b",
   "metadata": {},
   "outputs": [],
   "source": []
  }
 ],
 "metadata": {
  "kernelspec": {
   "display_name": "data-science",
   "language": "python",
   "name": "python3"
  },
  "language_info": {
   "codemirror_mode": {
    "name": "ipython",
    "version": 3
   },
   "file_extension": ".py",
   "mimetype": "text/x-python",
   "name": "python",
   "nbconvert_exporter": "python",
   "pygments_lexer": "ipython3",
   "version": "3.13.5"
  }
 },
 "nbformat": 4,
 "nbformat_minor": 5
}
