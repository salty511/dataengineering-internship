{
 "cells": [
  {
   "cell_type": "code",
   "execution_count": 2,
   "id": "0de3f0af",
   "metadata": {},
   "outputs": [],
   "source": [
    "import pandas as pd\n",
    "from google.cloud import storage"
   ]
  },
  {
   "cell_type": "code",
   "execution_count": null,
   "id": "855aaa83",
   "metadata": {},
   "outputs": [
    {
     "data": {
      "text/plain": [
       "(100000, 5)"
      ]
     },
     "execution_count": 13,
     "metadata": {},
     "output_type": "execute_result"
    }
   ],
   "source": [
    "clickstream_df = pd.read_csv(\"data/raw/clickstream.csv\")\n",
    "transactions_df = pd.read_csv(\"data/raw/transactions.csv\")"
   ]
  },
  {
   "cell_type": "code",
   "execution_count": null,
   "id": "7781412c",
   "metadata": {},
   "outputs": [
    {
     "data": {
      "text/plain": [
       "((100000, 6), (200000, 7))"
      ]
     },
     "execution_count": 12,
     "metadata": {},
     "output_type": "execute_result"
    }
   ],
   "source": [
    "transactions_clean = pd.read_csv(\"data/cleaned/transactions_usd.csv\")\n",
    "clickstream_clean = pd.read_csv(\"data/cleaned/clickstream_utc.csv\")"
   ]
  },
  {
   "cell_type": "code",
   "execution_count": 71,
   "id": "53e53f4d",
   "metadata": {},
   "outputs": [
    {
     "data": {
      "text/plain": [
       "0        2025-09-02 15:38:39+00:00\n",
       "1        2025-09-04 19:27:04+00:00\n",
       "2        2025-09-03 20:32:47+00:00\n",
       "3        2025-09-04 02:37:18+00:00\n",
       "4        2025-09-03 20:22:17+00:00\n",
       "                    ...           \n",
       "199995   2025-09-05 08:37:21+00:00\n",
       "199996   2025-09-02 23:18:29+00:00\n",
       "199997   2025-09-03 21:07:10+00:00\n",
       "199998   2025-09-02 19:57:14+00:00\n",
       "199999   2025-09-02 19:54:28+00:00\n",
       "Name: click_time, Length: 200000, dtype: datetime64[ns, UTC]"
      ]
     },
     "execution_count": 71,
     "metadata": {},
     "output_type": "execute_result"
    }
   ],
   "source": [
    "pd.to_datetime(clickstream_df[\"click_time\"], utc=True)"
   ]
  },
  {
   "cell_type": "code",
   "execution_count": 49,
   "id": "9f25da3f",
   "metadata": {},
   "outputs": [
    {
     "data": {
      "text/plain": [
       "np.False_"
      ]
     },
     "execution_count": 49,
     "metadata": {},
     "output_type": "execute_result"
    }
   ],
   "source": [
    "clickstream_df[\"session_id\"].duplicated().values.any()"
   ]
  },
  {
   "cell_type": "code",
   "execution_count": 43,
   "id": "056c0a31",
   "metadata": {},
   "outputs": [
    {
     "data": {
      "text/html": [
       "<div>\n",
       "<style scoped>\n",
       "    .dataframe tbody tr th:only-of-type {\n",
       "        vertical-align: middle;\n",
       "    }\n",
       "\n",
       "    .dataframe tbody tr th {\n",
       "        vertical-align: top;\n",
       "    }\n",
       "\n",
       "    .dataframe thead th {\n",
       "        text-align: right;\n",
       "    }\n",
       "</style>\n",
       "<table border=\"1\" class=\"dataframe\">\n",
       "  <thead>\n",
       "    <tr style=\"text-align: right;\">\n",
       "      <th></th>\n",
       "      <th>txn_id</th>\n",
       "      <th>user_id</th>\n",
       "      <th>amount</th>\n",
       "      <th>currency</th>\n",
       "      <th>txn_time</th>\n",
       "    </tr>\n",
       "  </thead>\n",
       "  <tbody>\n",
       "    <tr>\n",
       "      <th>0</th>\n",
       "      <td>00e22e71-ccc3-4cd8-8b9c-dcd45831360e</td>\n",
       "      <td>30148</td>\n",
       "      <td>69.41</td>\n",
       "      <td>GBP</td>\n",
       "      <td>2025-09-02T17:40:25Z</td>\n",
       "    </tr>\n",
       "    <tr>\n",
       "      <th>1</th>\n",
       "      <td>03161627-fa7d-458e-949f-890b227e1f9d</td>\n",
       "      <td>33593</td>\n",
       "      <td>216.51</td>\n",
       "      <td>USD</td>\n",
       "      <td>2025-09-04T05:01:43Z</td>\n",
       "    </tr>\n",
       "    <tr>\n",
       "      <th>2</th>\n",
       "      <td>b2ee8412-c2de-4278-9e84-477f3c2608b1</td>\n",
       "      <td>8863</td>\n",
       "      <td>128.51</td>\n",
       "      <td>EUR</td>\n",
       "      <td>2025-09-03T06:22:13Z</td>\n",
       "    </tr>\n",
       "    <tr>\n",
       "      <th>3</th>\n",
       "      <td>fd6f9752-3d98-498e-98e6-cec3f2d60c70</td>\n",
       "      <td>15370</td>\n",
       "      <td>133.82</td>\n",
       "      <td>USD</td>\n",
       "      <td>2025-09-04T23:36:06Z</td>\n",
       "    </tr>\n",
       "    <tr>\n",
       "      <th>4</th>\n",
       "      <td>1ff86983-6198-4b63-af63-af54d733ae2e</td>\n",
       "      <td>19387</td>\n",
       "      <td>250.94</td>\n",
       "      <td>EUR</td>\n",
       "      <td>2025-09-03T21:37:43Z</td>\n",
       "    </tr>\n",
       "  </tbody>\n",
       "</table>\n",
       "</div>"
      ],
      "text/plain": [
       "                                 txn_id  user_id  amount currency  \\\n",
       "0  00e22e71-ccc3-4cd8-8b9c-dcd45831360e    30148   69.41      GBP   \n",
       "1  03161627-fa7d-458e-949f-890b227e1f9d    33593  216.51      USD   \n",
       "2  b2ee8412-c2de-4278-9e84-477f3c2608b1     8863  128.51      EUR   \n",
       "3  fd6f9752-3d98-498e-98e6-cec3f2d60c70    15370  133.82      USD   \n",
       "4  1ff86983-6198-4b63-af63-af54d733ae2e    19387  250.94      EUR   \n",
       "\n",
       "               txn_time  \n",
       "0  2025-09-02T17:40:25Z  \n",
       "1  2025-09-04T05:01:43Z  \n",
       "2  2025-09-03T06:22:13Z  \n",
       "3  2025-09-04T23:36:06Z  \n",
       "4  2025-09-03T21:37:43Z  "
      ]
     },
     "execution_count": 43,
     "metadata": {},
     "output_type": "execute_result"
    }
   ],
   "source": [
    "transactions_df.head()"
   ]
  },
  {
   "cell_type": "code",
   "execution_count": 25,
   "id": "fe0779e9",
   "metadata": {},
   "outputs": [
    {
     "data": {
      "text/plain": [
       "array(['GBP', 'USD', 'EUR', 'INR', 'JPY'], dtype=object)"
      ]
     },
     "execution_count": 25,
     "metadata": {},
     "output_type": "execute_result"
    }
   ],
   "source": [
    "transactions_df[\"currency\"].unique()"
   ]
  },
  {
   "cell_type": "code",
   "execution_count": 38,
   "id": "d903c4bf",
   "metadata": {},
   "outputs": [
    {
     "data": {
      "text/plain": [
       "np.False_"
      ]
     },
     "execution_count": 38,
     "metadata": {},
     "output_type": "execute_result"
    }
   ],
   "source": [
    "transactions_df[\"txn_id\"].duplicated().any()"
   ]
  },
  {
   "cell_type": "code",
   "execution_count": 39,
   "id": "d95b34ea",
   "metadata": {},
   "outputs": [
    {
     "data": {
      "text/plain": [
       "user_id       False\n",
       "session_id    False\n",
       "page_url      False\n",
       "click_time    False\n",
       "device        False\n",
       "location      False\n",
       "dtype: bool"
      ]
     },
     "execution_count": 39,
     "metadata": {},
     "output_type": "execute_result"
    }
   ],
   "source": [
    "clickstream_df.isnull().any()"
   ]
  },
  {
   "cell_type": "code",
   "execution_count": 40,
   "id": "448c7bfd",
   "metadata": {},
   "outputs": [
    {
     "data": {
      "text/plain": [
       "txn_id      False\n",
       "user_id     False\n",
       "amount      False\n",
       "currency    False\n",
       "txn_time    False\n",
       "dtype: bool"
      ]
     },
     "execution_count": 40,
     "metadata": {},
     "output_type": "execute_result"
    }
   ],
   "source": [
    "transactions_df.isnull().any()"
   ]
  },
  {
   "cell_type": "code",
   "execution_count": 1,
   "id": "0a49e900",
   "metadata": {},
   "outputs": [
    {
     "name": "stderr",
     "output_type": "stream",
     "text": [
      "c:\\Users\\isaac\\miniconda3\\envs\\data-science\\Lib\\site-packages\\requests\\__init__.py:86: RequestsDependencyWarning: Unable to find acceptable character detection dependency (chardet or charset_normalizer).\n",
      "  warnings.warn(\n"
     ]
    },
    {
     "name": "stdout",
     "output_type": "stream",
     "text": [
      "USD to INR: 88.0852\n"
     ]
    }
   ],
   "source": [
    "import os \n",
    "import requests \n",
    "from dotenv import load_dotenv \n",
    "load_dotenv()\n",
    "\n",
    "\n",
    "API_KEY = os.getenv(\"API_KEY\") # Replace with your key \n",
    "\n",
    "url = f\"https://v6.exchangerate-api.com/v6/{API_KEY}/latest/USD\" \n",
    "response = requests.get(url) \n",
    "data = response.json() \n",
    "\n",
    "if response.status_code == 200 and data[\"result\"] == \"success\": \n",
    "\t\trates = data[\"conversion_rates\"] \n",
    "\t\tprint(\"USD to INR:\", rates[\"INR\"]) \n",
    "else: print(\"API Error:\", data)"
   ]
  },
  {
   "cell_type": "code",
   "execution_count": 20,
   "id": "5f300074",
   "metadata": {},
   "outputs": [],
   "source": [
    "from google.cloud import storage\n",
    "\n",
    "storage_client = storage.Client()\n",
    "bucket = storage_client.bucket(\"dataengineering-internship-test-bucket\")\n",
    "blob = bucket.blob(\"test-blob\")\n",
    "\n",
    "with open(\"data/cleaned/transactions_usd.csv\", \"r\") as f:\n",
    "    blob.upload_from_string(f.read(), content_type=\"text/csv\")\n"
   ]
  },
  {
   "cell_type": "code",
   "execution_count": null,
   "id": "c0e8e8d7",
   "metadata": {},
   "outputs": [
    {
     "ename": "BadRequest",
     "evalue": "400 POST https://bigquery.googleapis.com/bigquery/v2/projects/dataengineering-internship/datasets/dataengineering-internship-test-bucket/tables?prettyPrint=false: Invalid dataset ID \"dataengineering-internship-test-bucket\". Dataset IDs must be alphanumeric (plus underscores) and must be at most 1024 characters long.",
     "output_type": "error",
     "traceback": [
      "\u001b[31m---------------------------------------------------------------------------\u001b[39m",
      "\u001b[31mBadRequest\u001b[39m                                Traceback (most recent call last)",
      "\u001b[36mCell\u001b[39m\u001b[36m \u001b[39m\u001b[32mIn[6]\u001b[39m\u001b[32m, line 21\u001b[39m\n\u001b[32m     15\u001b[39m table = bigquery.Table(table_id, schema=schema)\n\u001b[32m     16\u001b[39m table.time_partitioning = bigquery.TimePartitioning(\n\u001b[32m     17\u001b[39m     type_=bigquery.TimePartitioningType.DAY,\n\u001b[32m     18\u001b[39m     expiration_ms=\u001b[32m1000\u001b[39m * \u001b[32m60\u001b[39m * \u001b[32m60\u001b[39m * \u001b[32m24\u001b[39m * \u001b[32m90\u001b[39m,\n\u001b[32m     19\u001b[39m )  \u001b[38;5;66;03m# 90 days\u001b[39;00m\n\u001b[32m---> \u001b[39m\u001b[32m21\u001b[39m table = client.create_table(table)\n\u001b[32m     23\u001b[39m \u001b[38;5;28mprint\u001b[39m(\n\u001b[32m     24\u001b[39m     \u001b[33mf\u001b[39m\u001b[33m\"\u001b[39m\u001b[33mCreated table \u001b[39m\u001b[38;5;132;01m{\u001b[39;00mtable.project\u001b[38;5;132;01m}\u001b[39;00m\u001b[33m.\u001b[39m\u001b[38;5;132;01m{\u001b[39;00mtable.dataset_id\u001b[38;5;132;01m}\u001b[39;00m\u001b[33m.\u001b[39m\u001b[38;5;132;01m{\u001b[39;00mtable.table_id\u001b[38;5;132;01m}\u001b[39;00m\u001b[33m, \u001b[39m\u001b[33m\"\u001b[39m\n\u001b[32m     25\u001b[39m     \u001b[33mf\u001b[39m\u001b[33m\"\u001b[39m\u001b[33mpartitioned on column \u001b[39m\u001b[38;5;132;01m{\u001b[39;00mtable.time_partitioning.field\u001b[38;5;132;01m}\u001b[39;00m\u001b[33m.\u001b[39m\u001b[33m\"\u001b[39m\n\u001b[32m     26\u001b[39m )\n",
      "\u001b[36mFile \u001b[39m\u001b[32mc:\\Users\\isaac\\miniconda3\\envs\\data-science\\Lib\\site-packages\\google\\cloud\\bigquery\\client.py:827\u001b[39m, in \u001b[36mClient.create_table\u001b[39m\u001b[34m(self, table, exists_ok, retry, timeout)\u001b[39m\n\u001b[32m    825\u001b[39m \u001b[38;5;28;01mtry\u001b[39;00m:\n\u001b[32m    826\u001b[39m     span_attributes = {\u001b[33m\"\u001b[39m\u001b[33mpath\u001b[39m\u001b[33m\"\u001b[39m: path, \u001b[33m\"\u001b[39m\u001b[33mdataset_id\u001b[39m\u001b[33m\"\u001b[39m: dataset_id}\n\u001b[32m--> \u001b[39m\u001b[32m827\u001b[39m     api_response = \u001b[38;5;28mself\u001b[39m._call_api(\n\u001b[32m    828\u001b[39m         retry,\n\u001b[32m    829\u001b[39m         span_name=\u001b[33m\"\u001b[39m\u001b[33mBigQuery.createTable\u001b[39m\u001b[33m\"\u001b[39m,\n\u001b[32m    830\u001b[39m         span_attributes=span_attributes,\n\u001b[32m    831\u001b[39m         method=\u001b[33m\"\u001b[39m\u001b[33mPOST\u001b[39m\u001b[33m\"\u001b[39m,\n\u001b[32m    832\u001b[39m         path=path,\n\u001b[32m    833\u001b[39m         data=data,\n\u001b[32m    834\u001b[39m         timeout=timeout,\n\u001b[32m    835\u001b[39m     )\n\u001b[32m    836\u001b[39m     \u001b[38;5;28;01mreturn\u001b[39;00m Table.from_api_repr(api_response)\n\u001b[32m    837\u001b[39m \u001b[38;5;28;01mexcept\u001b[39;00m core_exceptions.Conflict:\n",
      "\u001b[36mFile \u001b[39m\u001b[32mc:\\Users\\isaac\\miniconda3\\envs\\data-science\\Lib\\site-packages\\google\\cloud\\bigquery\\client.py:861\u001b[39m, in \u001b[36mClient._call_api\u001b[39m\u001b[34m(self, retry, span_name, span_attributes, job_ref, headers, **kwargs)\u001b[39m\n\u001b[32m    857\u001b[39m \u001b[38;5;28;01mif\u001b[39;00m span_name \u001b[38;5;129;01mis\u001b[39;00m \u001b[38;5;129;01mnot\u001b[39;00m \u001b[38;5;28;01mNone\u001b[39;00m:\n\u001b[32m    858\u001b[39m     \u001b[38;5;28;01mwith\u001b[39;00m create_span(\n\u001b[32m    859\u001b[39m         name=span_name, attributes=span_attributes, client=\u001b[38;5;28mself\u001b[39m, job_ref=job_ref\n\u001b[32m    860\u001b[39m     ):\n\u001b[32m--> \u001b[39m\u001b[32m861\u001b[39m         \u001b[38;5;28;01mreturn\u001b[39;00m call()\n\u001b[32m    863\u001b[39m \u001b[38;5;28;01mreturn\u001b[39;00m call()\n",
      "\u001b[36mFile \u001b[39m\u001b[32mc:\\Users\\isaac\\miniconda3\\envs\\data-science\\Lib\\site-packages\\google\\api_core\\retry\\retry_unary.py:294\u001b[39m, in \u001b[36mRetry.__call__.<locals>.retry_wrapped_func\u001b[39m\u001b[34m(*args, **kwargs)\u001b[39m\n\u001b[32m    290\u001b[39m target = functools.partial(func, *args, **kwargs)\n\u001b[32m    291\u001b[39m sleep_generator = exponential_sleep_generator(\n\u001b[32m    292\u001b[39m     \u001b[38;5;28mself\u001b[39m._initial, \u001b[38;5;28mself\u001b[39m._maximum, multiplier=\u001b[38;5;28mself\u001b[39m._multiplier\n\u001b[32m    293\u001b[39m )\n\u001b[32m--> \u001b[39m\u001b[32m294\u001b[39m \u001b[38;5;28;01mreturn\u001b[39;00m retry_target(\n\u001b[32m    295\u001b[39m     target,\n\u001b[32m    296\u001b[39m     \u001b[38;5;28mself\u001b[39m._predicate,\n\u001b[32m    297\u001b[39m     sleep_generator,\n\u001b[32m    298\u001b[39m     timeout=\u001b[38;5;28mself\u001b[39m._timeout,\n\u001b[32m    299\u001b[39m     on_error=on_error,\n\u001b[32m    300\u001b[39m )\n",
      "\u001b[36mFile \u001b[39m\u001b[32mc:\\Users\\isaac\\miniconda3\\envs\\data-science\\Lib\\site-packages\\google\\api_core\\retry\\retry_unary.py:156\u001b[39m, in \u001b[36mretry_target\u001b[39m\u001b[34m(target, predicate, sleep_generator, timeout, on_error, exception_factory, **kwargs)\u001b[39m\n\u001b[32m    152\u001b[39m \u001b[38;5;66;03m# pylint: disable=broad-except\u001b[39;00m\n\u001b[32m    153\u001b[39m \u001b[38;5;66;03m# This function explicitly must deal with broad exceptions.\u001b[39;00m\n\u001b[32m    154\u001b[39m \u001b[38;5;28;01mexcept\u001b[39;00m \u001b[38;5;167;01mException\u001b[39;00m \u001b[38;5;28;01mas\u001b[39;00m exc:\n\u001b[32m    155\u001b[39m     \u001b[38;5;66;03m# defer to shared logic for handling errors\u001b[39;00m\n\u001b[32m--> \u001b[39m\u001b[32m156\u001b[39m     next_sleep = _retry_error_helper(\n\u001b[32m    157\u001b[39m         exc,\n\u001b[32m    158\u001b[39m         deadline,\n\u001b[32m    159\u001b[39m         sleep_iter,\n\u001b[32m    160\u001b[39m         error_list,\n\u001b[32m    161\u001b[39m         predicate,\n\u001b[32m    162\u001b[39m         on_error,\n\u001b[32m    163\u001b[39m         exception_factory,\n\u001b[32m    164\u001b[39m         timeout,\n\u001b[32m    165\u001b[39m     )\n\u001b[32m    166\u001b[39m     \u001b[38;5;66;03m# if exception not raised, sleep before next attempt\u001b[39;00m\n\u001b[32m    167\u001b[39m     time.sleep(next_sleep)\n",
      "\u001b[36mFile \u001b[39m\u001b[32mc:\\Users\\isaac\\miniconda3\\envs\\data-science\\Lib\\site-packages\\google\\api_core\\retry\\retry_base.py:214\u001b[39m, in \u001b[36m_retry_error_helper\u001b[39m\u001b[34m(exc, deadline, sleep_iterator, error_list, predicate_fn, on_error_fn, exc_factory_fn, original_timeout)\u001b[39m\n\u001b[32m    208\u001b[39m \u001b[38;5;28;01mif\u001b[39;00m \u001b[38;5;129;01mnot\u001b[39;00m predicate_fn(exc):\n\u001b[32m    209\u001b[39m     final_exc, source_exc = exc_factory_fn(\n\u001b[32m    210\u001b[39m         error_list,\n\u001b[32m    211\u001b[39m         RetryFailureReason.NON_RETRYABLE_ERROR,\n\u001b[32m    212\u001b[39m         original_timeout,\n\u001b[32m    213\u001b[39m     )\n\u001b[32m--> \u001b[39m\u001b[32m214\u001b[39m     \u001b[38;5;28;01mraise\u001b[39;00m final_exc \u001b[38;5;28;01mfrom\u001b[39;00m\u001b[38;5;250m \u001b[39m\u001b[34;01msource_exc\u001b[39;00m\n\u001b[32m    215\u001b[39m \u001b[38;5;28;01mif\u001b[39;00m on_error_fn \u001b[38;5;129;01mis\u001b[39;00m \u001b[38;5;129;01mnot\u001b[39;00m \u001b[38;5;28;01mNone\u001b[39;00m:\n\u001b[32m    216\u001b[39m     on_error_fn(exc)\n",
      "\u001b[36mFile \u001b[39m\u001b[32mc:\\Users\\isaac\\miniconda3\\envs\\data-science\\Lib\\site-packages\\google\\api_core\\retry\\retry_unary.py:147\u001b[39m, in \u001b[36mretry_target\u001b[39m\u001b[34m(target, predicate, sleep_generator, timeout, on_error, exception_factory, **kwargs)\u001b[39m\n\u001b[32m    145\u001b[39m \u001b[38;5;28;01mwhile\u001b[39;00m \u001b[38;5;28;01mTrue\u001b[39;00m:\n\u001b[32m    146\u001b[39m     \u001b[38;5;28;01mtry\u001b[39;00m:\n\u001b[32m--> \u001b[39m\u001b[32m147\u001b[39m         result = target()\n\u001b[32m    148\u001b[39m         \u001b[38;5;28;01mif\u001b[39;00m inspect.isawaitable(result):\n\u001b[32m    149\u001b[39m             warnings.warn(_ASYNC_RETRY_WARNING)\n",
      "\u001b[36mFile \u001b[39m\u001b[32mc:\\Users\\isaac\\miniconda3\\envs\\data-science\\Lib\\site-packages\\google\\cloud\\_http\\__init__.py:494\u001b[39m, in \u001b[36mJSONConnection.api_request\u001b[39m\u001b[34m(self, method, path, query_params, data, content_type, headers, api_base_url, api_version, expect_json, _target_object, timeout, extra_api_info)\u001b[39m\n\u001b[32m    482\u001b[39m response = \u001b[38;5;28mself\u001b[39m._make_request(\n\u001b[32m    483\u001b[39m     method=method,\n\u001b[32m    484\u001b[39m     url=url,\n\u001b[32m   (...)\u001b[39m\u001b[32m    490\u001b[39m     extra_api_info=extra_api_info,\n\u001b[32m    491\u001b[39m )\n\u001b[32m    493\u001b[39m \u001b[38;5;28;01mif\u001b[39;00m \u001b[38;5;129;01mnot\u001b[39;00m \u001b[32m200\u001b[39m <= response.status_code < \u001b[32m300\u001b[39m:\n\u001b[32m--> \u001b[39m\u001b[32m494\u001b[39m     \u001b[38;5;28;01mraise\u001b[39;00m exceptions.from_http_response(response)\n\u001b[32m    496\u001b[39m \u001b[38;5;28;01mif\u001b[39;00m expect_json \u001b[38;5;129;01mand\u001b[39;00m response.content:\n\u001b[32m    497\u001b[39m     \u001b[38;5;28;01mreturn\u001b[39;00m response.json()\n",
      "\u001b[31mBadRequest\u001b[39m: 400 POST https://bigquery.googleapis.com/bigquery/v2/projects/dataengineering-internship/datasets/dataengineering-internship-test-bucket/tables?prettyPrint=false: Invalid dataset ID \"dataengineering-internship-test-bucket\". Dataset IDs must be alphanumeric (plus underscores) and must be at most 1024 characters long."
     ]
    }
   ],
   "source": []
  }
 ],
 "metadata": {
  "kernelspec": {
   "display_name": "data-science",
   "language": "python",
   "name": "python3"
  },
  "language_info": {
   "codemirror_mode": {
    "name": "ipython",
    "version": 3
   },
   "file_extension": ".py",
   "mimetype": "text/x-python",
   "name": "python",
   "nbconvert_exporter": "python",
   "pygments_lexer": "ipython3",
   "version": "3.13.5"
  }
 },
 "nbformat": 4,
 "nbformat_minor": 5
}
