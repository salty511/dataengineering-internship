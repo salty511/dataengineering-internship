{
 "cells": [
  {
   "cell_type": "code",
   "execution_count": 3,
   "id": "0de3f0af",
   "metadata": {},
   "outputs": [],
   "source": [
    "import pandas as pd\n",
    "from google.cloud import bigquery"
   ]
  },
  {
   "cell_type": "code",
   "execution_count": 41,
   "id": "855aaa83",
   "metadata": {},
   "outputs": [],
   "source": [
    "clickstream_df = pd.read_csv(\"data/clickstream.csv\")\n",
    "transactions_df = pd.read_csv(\"data/transactions.csv\")"
   ]
  },
  {
   "cell_type": "code",
   "execution_count": null,
   "id": "53e53f4d",
   "metadata": {},
   "outputs": [
    {
     "data": {
      "text/html": [
       "<div>\n",
       "<style scoped>\n",
       "    .dataframe tbody tr th:only-of-type {\n",
       "        vertical-align: middle;\n",
       "    }\n",
       "\n",
       "    .dataframe tbody tr th {\n",
       "        vertical-align: top;\n",
       "    }\n",
       "\n",
       "    .dataframe thead th {\n",
       "        text-align: right;\n",
       "    }\n",
       "</style>\n",
       "<table border=\"1\" class=\"dataframe\">\n",
       "  <thead>\n",
       "    <tr style=\"text-align: right;\">\n",
       "      <th></th>\n",
       "      <th>user_id</th>\n",
       "      <th>session_id</th>\n",
       "      <th>page_url</th>\n",
       "      <th>click_time</th>\n",
       "      <th>device</th>\n",
       "      <th>location</th>\n",
       "    </tr>\n",
       "  </thead>\n",
       "  <tbody>\n",
       "    <tr>\n",
       "      <th>0</th>\n",
       "      <td>41906</td>\n",
       "      <td>4b8feef4-2332-4867-9612-f6e3d67bb70f</td>\n",
       "      <td>/home</td>\n",
       "      <td>2025-09-02T15:38:39Z</td>\n",
       "      <td>desktop</td>\n",
       "      <td>DE</td>\n",
       "    </tr>\n",
       "    <tr>\n",
       "      <th>1</th>\n",
       "      <td>14629</td>\n",
       "      <td>80ddb3a6-7080-4d5b-95d7-0f07296654b2</td>\n",
       "      <td>/product/alpha</td>\n",
       "      <td>2025-09-04T19:27:04Z</td>\n",
       "      <td>mobile</td>\n",
       "      <td>AU</td>\n",
       "    </tr>\n",
       "    <tr>\n",
       "      <th>2</th>\n",
       "      <td>5698</td>\n",
       "      <td>cc33cc49-a847-443a-9a8b-7f81f9623c2a</td>\n",
       "      <td>/checkout</td>\n",
       "      <td>2025-09-03T20:32:47Z</td>\n",
       "      <td>mobile</td>\n",
       "      <td>GB</td>\n",
       "    </tr>\n",
       "    <tr>\n",
       "      <th>3</th>\n",
       "      <td>14329</td>\n",
       "      <td>0f268ab7-dbd9-47c8-b4a6-4b5a4b39bac1</td>\n",
       "      <td>/product/beta</td>\n",
       "      <td>2025-09-04T02:37:18Z</td>\n",
       "      <td>desktop</td>\n",
       "      <td>AU</td>\n",
       "    </tr>\n",
       "    <tr>\n",
       "      <th>4</th>\n",
       "      <td>13032</td>\n",
       "      <td>b79491c9-576c-419c-a5af-6b1b1cf78092</td>\n",
       "      <td>/cart</td>\n",
       "      <td>2025-09-03T20:22:17Z</td>\n",
       "      <td>mobile</td>\n",
       "      <td>ZA</td>\n",
       "    </tr>\n",
       "  </tbody>\n",
       "</table>\n",
       "</div>"
      ],
      "text/plain": [
       "   user_id                            session_id        page_url  \\\n",
       "0    41906  4b8feef4-2332-4867-9612-f6e3d67bb70f           /home   \n",
       "1    14629  80ddb3a6-7080-4d5b-95d7-0f07296654b2  /product/alpha   \n",
       "2     5698  cc33cc49-a847-443a-9a8b-7f81f9623c2a       /checkout   \n",
       "3    14329  0f268ab7-dbd9-47c8-b4a6-4b5a4b39bac1   /product/beta   \n",
       "4    13032  b79491c9-576c-419c-a5af-6b1b1cf78092           /cart   \n",
       "\n",
       "             click_time   device location  \n",
       "0  2025-09-02T15:38:39Z  desktop       DE  \n",
       "1  2025-09-04T19:27:04Z   mobile       AU  \n",
       "2  2025-09-03T20:32:47Z   mobile       GB  \n",
       "3  2025-09-04T02:37:18Z  desktop       AU  \n",
       "4  2025-09-03T20:22:17Z   mobile       ZA  "
      ]
     },
     "execution_count": 22,
     "metadata": {},
     "output_type": "execute_result"
    }
   ],
   "source": [
    "clickstream_df.head()"
   ]
  },
  {
   "cell_type": "code",
   "execution_count": 49,
   "id": "9f25da3f",
   "metadata": {},
   "outputs": [
    {
     "data": {
      "text/plain": [
       "np.False_"
      ]
     },
     "execution_count": 49,
     "metadata": {},
     "output_type": "execute_result"
    }
   ],
   "source": [
    "clickstream_df[\"session_id\"].duplicated().values.any()"
   ]
  },
  {
   "cell_type": "code",
   "execution_count": 43,
   "id": "056c0a31",
   "metadata": {},
   "outputs": [
    {
     "data": {
      "text/html": [
       "<div>\n",
       "<style scoped>\n",
       "    .dataframe tbody tr th:only-of-type {\n",
       "        vertical-align: middle;\n",
       "    }\n",
       "\n",
       "    .dataframe tbody tr th {\n",
       "        vertical-align: top;\n",
       "    }\n",
       "\n",
       "    .dataframe thead th {\n",
       "        text-align: right;\n",
       "    }\n",
       "</style>\n",
       "<table border=\"1\" class=\"dataframe\">\n",
       "  <thead>\n",
       "    <tr style=\"text-align: right;\">\n",
       "      <th></th>\n",
       "      <th>txn_id</th>\n",
       "      <th>user_id</th>\n",
       "      <th>amount</th>\n",
       "      <th>currency</th>\n",
       "      <th>txn_time</th>\n",
       "    </tr>\n",
       "  </thead>\n",
       "  <tbody>\n",
       "    <tr>\n",
       "      <th>0</th>\n",
       "      <td>00e22e71-ccc3-4cd8-8b9c-dcd45831360e</td>\n",
       "      <td>30148</td>\n",
       "      <td>69.41</td>\n",
       "      <td>GBP</td>\n",
       "      <td>2025-09-02T17:40:25Z</td>\n",
       "    </tr>\n",
       "    <tr>\n",
       "      <th>1</th>\n",
       "      <td>03161627-fa7d-458e-949f-890b227e1f9d</td>\n",
       "      <td>33593</td>\n",
       "      <td>216.51</td>\n",
       "      <td>USD</td>\n",
       "      <td>2025-09-04T05:01:43Z</td>\n",
       "    </tr>\n",
       "    <tr>\n",
       "      <th>2</th>\n",
       "      <td>b2ee8412-c2de-4278-9e84-477f3c2608b1</td>\n",
       "      <td>8863</td>\n",
       "      <td>128.51</td>\n",
       "      <td>EUR</td>\n",
       "      <td>2025-09-03T06:22:13Z</td>\n",
       "    </tr>\n",
       "    <tr>\n",
       "      <th>3</th>\n",
       "      <td>fd6f9752-3d98-498e-98e6-cec3f2d60c70</td>\n",
       "      <td>15370</td>\n",
       "      <td>133.82</td>\n",
       "      <td>USD</td>\n",
       "      <td>2025-09-04T23:36:06Z</td>\n",
       "    </tr>\n",
       "    <tr>\n",
       "      <th>4</th>\n",
       "      <td>1ff86983-6198-4b63-af63-af54d733ae2e</td>\n",
       "      <td>19387</td>\n",
       "      <td>250.94</td>\n",
       "      <td>EUR</td>\n",
       "      <td>2025-09-03T21:37:43Z</td>\n",
       "    </tr>\n",
       "  </tbody>\n",
       "</table>\n",
       "</div>"
      ],
      "text/plain": [
       "                                 txn_id  user_id  amount currency  \\\n",
       "0  00e22e71-ccc3-4cd8-8b9c-dcd45831360e    30148   69.41      GBP   \n",
       "1  03161627-fa7d-458e-949f-890b227e1f9d    33593  216.51      USD   \n",
       "2  b2ee8412-c2de-4278-9e84-477f3c2608b1     8863  128.51      EUR   \n",
       "3  fd6f9752-3d98-498e-98e6-cec3f2d60c70    15370  133.82      USD   \n",
       "4  1ff86983-6198-4b63-af63-af54d733ae2e    19387  250.94      EUR   \n",
       "\n",
       "               txn_time  \n",
       "0  2025-09-02T17:40:25Z  \n",
       "1  2025-09-04T05:01:43Z  \n",
       "2  2025-09-03T06:22:13Z  \n",
       "3  2025-09-04T23:36:06Z  \n",
       "4  2025-09-03T21:37:43Z  "
      ]
     },
     "execution_count": 43,
     "metadata": {},
     "output_type": "execute_result"
    }
   ],
   "source": [
    "transactions_df.head()"
   ]
  },
  {
   "cell_type": "code",
   "execution_count": 25,
   "id": "fe0779e9",
   "metadata": {},
   "outputs": [
    {
     "data": {
      "text/plain": [
       "array(['GBP', 'USD', 'EUR', 'INR', 'JPY'], dtype=object)"
      ]
     },
     "execution_count": 25,
     "metadata": {},
     "output_type": "execute_result"
    }
   ],
   "source": [
    "transactions_df[\"currency\"].unique()"
   ]
  },
  {
   "cell_type": "code",
   "execution_count": 38,
   "id": "d903c4bf",
   "metadata": {},
   "outputs": [
    {
     "data": {
      "text/plain": [
       "np.False_"
      ]
     },
     "execution_count": 38,
     "metadata": {},
     "output_type": "execute_result"
    }
   ],
   "source": [
    "transactions_df[\"txn_id\"].duplicated().any()"
   ]
  },
  {
   "cell_type": "code",
   "execution_count": 39,
   "id": "d95b34ea",
   "metadata": {},
   "outputs": [
    {
     "data": {
      "text/plain": [
       "user_id       False\n",
       "session_id    False\n",
       "page_url      False\n",
       "click_time    False\n",
       "device        False\n",
       "location      False\n",
       "dtype: bool"
      ]
     },
     "execution_count": 39,
     "metadata": {},
     "output_type": "execute_result"
    }
   ],
   "source": [
    "clickstream_df.isnull().any()"
   ]
  },
  {
   "cell_type": "code",
   "execution_count": 40,
   "id": "448c7bfd",
   "metadata": {},
   "outputs": [
    {
     "data": {
      "text/plain": [
       "txn_id      False\n",
       "user_id     False\n",
       "amount      False\n",
       "currency    False\n",
       "txn_time    False\n",
       "dtype: bool"
      ]
     },
     "execution_count": 40,
     "metadata": {},
     "output_type": "execute_result"
    }
   ],
   "source": [
    "transactions_df.isnull().any()"
   ]
  },
  {
   "cell_type": "code",
   "execution_count": 1,
   "id": "0a49e900",
   "metadata": {},
   "outputs": [
    {
     "name": "stderr",
     "output_type": "stream",
     "text": [
      "c:\\Users\\isaac\\miniconda3\\envs\\data-science\\Lib\\site-packages\\requests\\__init__.py:86: RequestsDependencyWarning: Unable to find acceptable character detection dependency (chardet or charset_normalizer).\n",
      "  warnings.warn(\n"
     ]
    },
    {
     "name": "stdout",
     "output_type": "stream",
     "text": [
      "USD to INR: 88.0852\n"
     ]
    }
   ],
   "source": [
    "import os \n",
    "import requests \n",
    "from dotenv import load_dotenv \n",
    "load_dotenv()\n",
    "\n",
    "\n",
    "API_KEY = os.getenv(\"API_KEY\") # Replace with your key \n",
    "\n",
    "url = f\"https://v6.exchangerate-api.com/v6/{API_KEY}/latest/USD\" \n",
    "response = requests.get(url) \n",
    "data = response.json() \n",
    "\n",
    "if response.status_code == 200 and data[\"result\"] == \"success\": \n",
    "\t\trates = data[\"conversion_rates\"] \n",
    "\t\tprint(\"USD to INR:\", rates[\"INR\"]) \n",
    "else: print(\"API Error:\", data)"
   ]
  },
  {
   "cell_type": "code",
   "execution_count": 5,
   "id": "5f300074",
   "metadata": {},
   "outputs": [
    {
     "name": "stdout",
     "output_type": "stream",
     "text": [
      "Willie\n",
      "Flora\n",
      "Stella\n",
      "Esther\n",
      "Erma\n",
      "Katie\n",
      "Ethel\n",
      "Cora\n",
      "Margarita\n",
      "Mae\n",
      "Mamie\n",
      "Eula\n",
      "Nancy\n",
      "Ethel\n",
      "Virginia\n",
      "Nina\n",
      "Beatrice\n",
      "Juana\n",
      "Nancy\n",
      "Thelma\n",
      "Virgie\n",
      "Ella\n",
      "Norma\n",
      "Eunice\n",
      "Elvira\n",
      "Dollie\n",
      "Mamie\n",
      "Nellie\n",
      "Laverne\n",
      "Jessie\n",
      "Johnnie\n",
      "Alice\n",
      "Dolores\n",
      "Margarita\n",
      "Doris\n",
      "Frances\n",
      "Addie\n",
      "Beulah\n",
      "Charlotte\n",
      "Dixie\n",
      "Eddie\n",
      "Nadine\n",
      "Faye\n",
      "Mae\n",
      "Estella\n",
      "Antonia\n",
      "Ann\n",
      "Dominga\n",
      "Ila\n",
      "Olivia\n",
      "Nell\n",
      "Estella\n",
      "Geneva\n",
      "Eula\n",
      "Gussie\n",
      "Bessie\n",
      "Kathryn\n",
      "Evelyn\n",
      "Virgie\n",
      "Bennie\n",
      "Jeanette\n",
      "Dixie\n",
      "Winnie\n",
      "Bettie\n",
      "Beulah\n",
      "Pearl\n",
      "Essie\n",
      "Francis\n",
      "Elsie\n",
      "Joyce\n",
      "Katie\n",
      "Geneva\n",
      "Mamie\n",
      "Margarita\n",
      "Elisa\n",
      "Frankie\n",
      "Lila\n",
      "Estelle\n",
      "Estella\n",
      "Lillian\n",
      "Janie\n",
      "Eugenia\n",
      "Eunice\n",
      "Lois\n",
      "Mabel\n",
      "Alice\n",
      "Norma\n",
      "Geneva\n",
      "Ruth\n",
      "Tommie\n",
      "Viola\n",
      "Connie\n",
      "Ida\n",
      "Grace\n",
      "Paula\n",
      "Marjorie\n",
      "Carmen\n",
      "Lee\n",
      "Linda\n",
      "Elida\n"
     ]
    }
   ],
   "source": [
    "client = bigquery.Client(\"dataengineering-internship\")\n",
    "\n",
    "# Perform a query.\n",
    "QUERY = (\n",
    "    'SELECT name FROM `bigquery-public-data.usa_names.usa_1910_2013` '\n",
    "    'WHERE state = \"TX\" '\n",
    "    'LIMIT 100')\n",
    "query_job = client.query(QUERY)  # API request\n",
    "rows = query_job.result()  # Waits for query to finish\n",
    "\n",
    "for row in rows:\n",
    "    print(row.name)\n"
   ]
  },
  {
   "cell_type": "code",
   "execution_count": null,
   "id": "c0e8e8d7",
   "metadata": {},
   "outputs": [],
   "source": []
  }
 ],
 "metadata": {
  "kernelspec": {
   "display_name": "data-science",
   "language": "python",
   "name": "python3"
  },
  "language_info": {
   "codemirror_mode": {
    "name": "ipython",
    "version": 3
   },
   "file_extension": ".py",
   "mimetype": "text/x-python",
   "name": "python",
   "nbconvert_exporter": "python",
   "pygments_lexer": "ipython3",
   "version": "3.13.5"
  }
 },
 "nbformat": 4,
 "nbformat_minor": 5
}
